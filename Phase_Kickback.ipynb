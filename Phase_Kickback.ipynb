{
 "cells": [
  {
   "cell_type": "code",
   "execution_count": 1,
   "id": "e0219429",
   "metadata": {},
   "outputs": [
    {
     "data": {
      "image/png": "[encoded data removed]",
      "text/plain": [
       "<Figure size 705.35x284.278 with 1 Axes>"
      ]
     },
     "metadata": {},
     "output_type": "display_data"
    },
    {
     "name": "stdout",
     "output_type": "stream",
     "text": [
      "{'11': 100}\n"
     ]
    }
   ],
   "source": [
    "# import all necessary objects and methods for quantum circuits\n",
    "from qiskit import QuantumRegister, ClassicalRegister, QuantumCircuit\n",
    "from qiskit_aer import AerSimulator\n",
    "\n",
    "q =  QuantumRegister(2,\"q\") # quantum register with 2 qubits\n",
    "c = ClassicalRegister(2,\"c\") # classical register with 2 bits\n",
    "\n",
    "qc = QuantumCircuit(q,c) # quantum circuit with quantum and classical registers\n",
    "\n",
    "# the up qubit is in |0>\n",
    "\n",
    "# set the down qubit to |1>\n",
    "qc.x(q[0]) # apply x-gate (NOT operator)\n",
    "\n",
    "qc.barrier()\n",
    "\n",
    "# apply Hadamard to both qubits.\n",
    "qc.h(q[0])\n",
    "qc.h(q[1])\n",
    "\n",
    "# apply CNOT operator, where the controller qubit is the up qubit and the target qubit is the down qubit.\n",
    "qc.cx(1,0)\n",
    "\n",
    "# apply Hadamard to both qubits.\n",
    "qc.h(q[0])\n",
    "qc.h(q[1])\n",
    "\n",
    "# measure both qubits\n",
    "qc.measure(q,c)\n",
    "\n",
    "# draw the circuit in Qiskit reading order\n",
    "display(qc.draw(output='mpl',reverse_bits=True))\n",
    "\n",
    "# execute the circuit 100 times in the local simulator\n",
    "job = AerSimulator().run(qc,shots=100)\n",
    "counts = job.result().get_counts(qc)\n",
    "print(counts)"
   ]
  },
  {
   "cell_type": "markdown",
   "id": "8f43b79c",
   "metadata": {},
   "source": [
    "# Kuantum Devresinin Adım Adım İncelenmesi\n",
    "\n",
    "### Başlangıç Durumu:\n",
    "\n",
    "- **q[0]** (aşağı qubit): Başlangıçta **|0⟩** durumundadır. **qc.x(q[0])** ile X kapısı uygulanarak **|1⟩** durumuna getirilir.\n",
    "- **q[1]** (yukarı qubit): Başlangıçta **|0⟩** durumundadır.\n",
    "\n",
    "**Toplam Durum:**  \n",
    "\\[\n",
    "|01⟩\n",
    "\\]\n",
    "\n",
    "### Hadamard Kapıları:\n",
    "\n",
    "- **q[0]** (|1⟩ durumu):\n",
    "  Hadamard uygulandığında:\n",
    "  \\[\n",
    "  H|1⟩ = \\frac{1}{\\sqrt{2}}(|0⟩ - |1⟩)\n",
    "  \\]\n",
    "\n",
    "- **q[1]** (|0⟩ durumu):\n",
    "  Hadamard uygulandığında:\n",
    "  \\[\n",
    "  H|0⟩ = \\frac{1}{\\sqrt{2}}(|0⟩ + |1⟩)\n",
    "  \\]\n",
    "\n",
    "**Toplam Durum:**  \n",
    "\\[\n",
    "\\frac{1}{\\sqrt{2}}(|00⟩ + |01⟩ - |10⟩ - |11⟩)\n",
    "\\]\n",
    "\n",
    "### CNOT Kapısı (qc.cx(1, 0)):\n",
    "\n",
    "- **Kontrol Qubit:** q[1] (yukarı qubit)\n",
    "- **Hedef Qubit:** q[0] (aşağı qubit)\n",
    "\n",
    "**İşlev:**  \n",
    "Kontrol qubit **|1⟩** olduğunda, hedef qubit'in durumu tersine çevrilir. Ancak q[1] süperpozisyonda olduğu için, CNOT kapısı uygulandığında durum şu şekilde değişir:\n",
    "\n",
    "\\[\n",
    "\\frac{1}{\\sqrt{2}}(|00⟩ + |01⟩ - |11⟩ - |10⟩)\n",
    "\\]\n",
    "\n",
    "### Tekrar Hadamard Kapıları:\n",
    "\n",
    "- **q[0]** ve **q[1]** qubit'lerine tekrar Hadamard kapıları uygulanır. Bu işlem süperpozisyonu temel duruma dönüştürür:\n",
    "  - **q[0] → |1⟩**\n",
    "  - **q[1] → |1⟩**\n",
    "\n",
    "**Toplam Durum:**  \n",
    "\\[\n",
    "|11⟩\n",
    "\\]\n",
    "\n",
    "### Ölçüm:\n",
    "\n",
    "Her iki qubit de **|1⟩** durumunda olduğu için, tüm ölçümler **\"11\"** sonucunu verir.\n"
   ]
  }
 ],
 "metadata": {
  "kernelspec": {
   "display_name": "Python (qiskit-env)",
   "language": "python",
   "name": "qiskit-env"
  },
  "language_info": {
   "codemirror_mode": {
    "name": "ipython",
    "version": 3
   },
   "file_extension": ".py",
   "mimetype": "text/x-python",
   "name": "python",
   "nbconvert_exporter": "python",
   "pygments_lexer": "ipython3",
   "version": "3.8.20"
  }
 },
 "nbformat": 4,
 "nbformat_minor": 5
}
