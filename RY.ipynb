{
 "cells": [
  {
   "cell_type": "code",
   "execution_count": 14,
   "id": "19f66a8b",
   "metadata": {},
   "outputs": [
    {
     "name": "stdout",
     "output_type": "stream",
     "text": [
      "Ölçüm Sonuçları: {'1': 1000}\n"
     ]
    }
   ],
   "source": [
    "from qiskit import QuantumCircuit\n",
    "from qiskit_aer import QasmSimulator  # Aer simülatörü buradan import ediliyor\n",
    "from qiskit.visualization import plot_histogram\n",
    "import matplotlib.pyplot as plt\n",
    "\n",
    "# Devreyi oluştur\n",
    "qc = QuantumCircuit(1, 1)  # 1 qubit, 1 klasik bit\n",
    "\n",
    "# RY(π) kapısını uygula\n",
    "qc.ry(3.14159, 0)  # π radyan ≈ 3.14159\n",
    "\n",
    "# Ölçüm yap\n",
    "qc.measure(0, 0)\n",
    "\n",
    "# Simülasyonu çalıştır\n",
    "simulator = QasmSimulator()  # Aer simülatörü QasmSimulator olarak tanımlanıyor\n",
    "result = simulator.run(qc, shots=1000).result()  # Simülasyon çalıştırılıyor\n",
    "counts = result.get_counts(qc)\n",
    "\n",
    "# Sonuçları göster\n",
    "print(\"Ölçüm Sonuçları:\", counts)\n",
    "plot_histogram(counts)\n",
    "plt.show()\n"
   ]
  },
  {
   "cell_type": "code",
   "execution_count": 12,
   "id": "c1d47a39",
   "metadata": {},
   "outputs": [
    {
     "name": "stdout",
     "output_type": "stream",
     "text": [
      "Requirement already satisfied: matplotlib in c:\\users\\alice\\anaconda3\\envs\\qiskit-env\\lib\\site-packages (3.7.5)\n",
      "Requirement already satisfied: contourpy>=1.0.1 in c:\\users\\alice\\anaconda3\\envs\\qiskit-env\\lib\\site-packages (from matplotlib) (1.1.1)\n",
      "Requirement already satisfied: cycler>=0.10 in c:\\users\\alice\\anaconda3\\envs\\qiskit-env\\lib\\site-packages (from matplotlib) (0.12.1)\n",
      "Requirement already satisfied: fonttools>=4.22.0 in c:\\users\\alice\\anaconda3\\envs\\qiskit-env\\lib\\site-packages (from matplotlib) (4.56.0)\n",
      "Requirement already satisfied: kiwisolver>=1.0.1 in c:\\users\\alice\\anaconda3\\envs\\qiskit-env\\lib\\site-packages (from matplotlib) (1.4.7)\n",
      "Requirement already satisfied: numpy<2,>=1.20 in c:\\users\\alice\\anaconda3\\envs\\qiskit-env\\lib\\site-packages (from matplotlib) (1.24.4)\n",
      "Requirement already satisfied: packaging>=20.0 in c:\\users\\alice\\anaconda3\\envs\\qiskit-env\\lib\\site-packages (from matplotlib) (24.2)\n",
      "Requirement already satisfied: pillow>=6.2.0 in c:\\users\\alice\\anaconda3\\envs\\qiskit-env\\lib\\site-packages (from matplotlib) (10.4.0)\n",
      "Requirement already satisfied: pyparsing>=2.3.1 in c:\\users\\alice\\anaconda3\\envs\\qiskit-env\\lib\\site-packages (from matplotlib) (3.1.4)\n",
      "Requirement already satisfied: python-dateutil>=2.7 in c:\\users\\alice\\anaconda3\\envs\\qiskit-env\\lib\\site-packages (from matplotlib) (2.9.0)\n",
      "Requirement already satisfied: importlib-resources>=3.2.0 in c:\\users\\alice\\anaconda3\\envs\\qiskit-env\\lib\\site-packages (from matplotlib) (6.4.5)\n",
      "Requirement already satisfied: zipp>=3.1.0 in c:\\users\\alice\\anaconda3\\envs\\qiskit-env\\lib\\site-packages (from importlib-resources>=3.2.0->matplotlib) (3.21.0)\n",
      "Requirement already satisfied: six>=1.5 in c:\\users\\alice\\anaconda3\\envs\\qiskit-env\\lib\\site-packages (from python-dateutil>=2.7->matplotlib) (1.16.0)\n"
     ]
    }
   ],
   "source": [
    "!pip install matplotlib\n"
   ]
  },
  {
   "cell_type": "code",
   "execution_count": null,
   "id": "b8ca9f6b",
   "metadata": {},
   "outputs": [],
   "source": []
  }
 ],
 "metadata": {
  "kernelspec": {
   "display_name": "Python 3 (ipykernel)",
   "language": "python",
   "name": "python3"
  },
  "language_info": {
   "codemirror_mode": {
    "name": "ipython",
    "version": 3
   },
   "file_extension": ".py",
   "mimetype": "text/x-python",
   "name": "python",
   "nbconvert_exporter": "python",
   "pygments_lexer": "ipython3",
   "version": "3.8.20"
  }
 },
 "nbformat": 4,
 "nbformat_minor": 5
}
