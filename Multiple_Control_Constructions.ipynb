{
 "cells": [
  {
   "cell_type": "code",
   "execution_count": 1,
   "id": "dcf59870",
   "metadata": {},
   "outputs": [
    {
     "name": "stdout",
     "output_type": "stream",
     "text": [
      "CNOT(0) = \n",
      "0.0  1.0  0.0  0.0  \n",
      "1.0  0.0  0.0  0.0  \n",
      "0.0  0.0  1.0  0.0  \n",
      "0.0  0.0  0.0  1.0  \n"
     ]
    },
    {
     "data": {
      "image/png": "[encoded data removed]",
      "text/plain": [
       "<Figure size 370.906x284.278 with 1 Axes>"
      ]
     },
     "execution_count": 1,
     "metadata": {},
     "output_type": "execute_result"
    }
   ],
   "source": [
    "from qiskit import QuantumRegister, ClassicalRegister, QuantumCircuit\n",
    "from qiskit_aer import UnitarySimulator\n",
    "\n",
    "q = QuantumRegister(2, \"q\")\n",
    "c = ClassicalRegister(2, \"c\")\n",
    "\n",
    "qc = QuantumCircuit(q,c)\n",
    "\n",
    "qc.x(q[1])\n",
    "\n",
    "qc.cx(q[1],q[0])\n",
    "\n",
    "# Returning control qubit to the initial state\n",
    "qc.x(q[1])\n",
    "\n",
    "job = UnitarySimulator().run(qc, shots = 1)\n",
    "U=job.result().get_unitary(qc,decimals=3).data\n",
    "\n",
    "print(\"CNOT(0) = \")\n",
    "for row in U:\n",
    "    s = \"\"\n",
    "    for value in row:\n",
    "        s = s + str(round(value.real,2)) + \"  \"\n",
    "    print(s)\n",
    "\n",
    "qc.draw(output=\"mpl\", reverse_bits=True)"
   ]
  },
  {
   "cell_type": "markdown",
   "id": "a497f578",
   "metadata": {},
   "source": [
    " CCNOT(Toffoli)"
   ]
  },
  {
   "cell_type": "code",
   "execution_count": 2,
   "id": "5e98da55",
   "metadata": {},
   "outputs": [
    {
     "data": {
      "image/png": "[encoded data removed]",
      "text/plain": [
       "<Figure size 405.761x535.111 with 1 Axes>"
      ]
     },
     "execution_count": 2,
     "metadata": {},
     "output_type": "execute_result"
    }
   ],
   "source": [
    "from qiskit import QuantumRegister, ClassicalRegister, QuantumCircuit\n",
    "from qiskit_aer import AerSimulator\n",
    "\n",
    "qaux = QuantumRegister(1,\"qaux\")\n",
    "q = QuantumRegister(4,\"q\")\n",
    "c = ClassicalRegister(4,\"c\")\n",
    "\n",
    "qc = QuantumCircuit(q,qaux,c)\n",
    "\n",
    "# step 1: set qaux to |1> if both q3 and q2 are in |1>\n",
    "qc.ccx(q[3],q[2],qaux[0])\n",
    "\n",
    "# step 2: apply NOT gate to q0 if both qaux and q1 are in |1>\n",
    "qc.ccx(qaux[0],q[1],q[0])\n",
    "\n",
    "# step 3: set qaux to |0> if both q3 and q2 are in |1> by reversing the affect of step 1\n",
    "qc.ccx(q[3],q[2],qaux[0])\n",
    "\n",
    "qc.draw(output=\"mpl\",reverse_bits=True)"
   ]
  },
  {
   "cell_type": "markdown",
   "id": "43ea36c3",
   "metadata": {},
   "source": [
    "Bu teknik, kuantum algoritmalarında koşullu işlemler yapmak, hata düzeltme kodları oluşturmak ve kuantum mantık devreleri tasarlamak için kullanılır. "
   ]
  },
  {
   "cell_type": "code",
   "execution_count": 3,
   "id": "8181a9b5",
   "metadata": {
    "scrolled": true
   },
   "outputs": [
    {
     "name": "stdout",
     "output_type": "stream",
     "text": [
      "input --> output\n",
      "000 0 --> 000 0\n",
      "000 1 --> 000 1\n",
      "001 0 --> 001 0\n",
      "001 1 --> 001 1\n",
      "010 0 --> 010 0\n",
      "010 1 --> 010 1\n",
      "011 0 --> 011 0\n",
      "011 1 --> 011 1\n",
      "100 0 --> 100 0\n",
      "100 1 --> 100 1\n",
      "101 0 --> 101 0\n",
      "101 1 --> 101 1\n",
      "110 0 --> 110 0\n",
      "110 1 --> 110 1\n",
      "111 0 --> 111 1 the output is different than the input\n",
      "111 1 --> 111 0 the output is different than the input\n"
     ]
    }
   ],
   "source": [
    "from qiskit import QuantumRegister, ClassicalRegister, QuantumCircuit\n",
    "from qiskit_aer import AerSimulator\n",
    "\n",
    "all_inputs=[]\n",
    "for q3 in ['0','1']:\n",
    "    for q2 in ['0','1']:\n",
    "        for q1 in ['0','1']:\n",
    "            for q0 in ['0','1']:\n",
    "                all_inputs.append(q3+q2+q1+q0)\n",
    "# print(all_inputs)                                  \n",
    "\n",
    "print(\"input --> output\")\n",
    "for the_input in all_inputs:\n",
    "    # create the circuit\n",
    "    qaux = QuantumRegister(1,\"qaux\")\n",
    "    q = QuantumRegister(4,\"q\")\n",
    "    c = ClassicalRegister(4,\"c\")\n",
    "    qc = QuantumCircuit(q,qaux,c)\n",
    "    # set the initial value of the circuit w.r.t. the input\n",
    "    if the_input[0] =='1': qc.x(q[3])\n",
    "    if the_input[1] =='1': qc.x(q[2])\n",
    "    if the_input[2] =='1': qc.x(q[1])\n",
    "    if the_input[3] =='1': qc.x(q[0])\n",
    "    # implement the CCNOT gates\n",
    "    qc.ccx(q[3],q[2],qaux[0])\n",
    "    qc.ccx(qaux[0],q[1],q[0])\n",
    "    qc.ccx(q[3],q[2],qaux[0])\n",
    "    # measure the main quantum register \n",
    "    qc.measure(q,c)\n",
    "    # execute the circuit\n",
    "    job = AerSimulator().run(qc,shots=1)\n",
    "    counts = job.result().get_counts(qc)\n",
    "    for key in counts: the_output = key\n",
    "    printed_str = the_input[0:3]+\" \"+the_input[3]+\" --> \"+the_output[0:3]+\" \"+the_output[3]\n",
    "    if (the_input!=the_output): printed_str = printed_str + \" the output is different than the input\"\n",
    "    print(printed_str)"
   ]
  }
 ],
 "metadata": {
  "kernelspec": {
   "display_name": "Python (qiskit-env)",
   "language": "python",
   "name": "qiskit-env"
  },
  "language_info": {
   "codemirror_mode": {
    "name": "ipython",
    "version": 3
   },
   "file_extension": ".py",
   "mimetype": "text/x-python",
   "name": "python",
   "nbconvert_exporter": "python",
   "pygments_lexer": "ipython3",
   "version": "3.8.20"
  }
 },
 "nbformat": 4,
 "nbformat_minor": 5
}
