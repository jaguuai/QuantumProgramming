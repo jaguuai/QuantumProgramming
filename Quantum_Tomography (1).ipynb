{
 "cells": [
  {
   "cell_type": "code",
   "execution_count": 2,
   "id": "45f917ab",
   "metadata": {},
   "outputs": [
    {
     "name": "stdout",
     "output_type": "stream",
     "text": [
      "1000 qubits are created\n",
      "You have 5 active qubits that are set to (cos(theta), sin(theta))\n",
      "--> The number of available unused qubit(s) is 995\n",
      "Your active qubits are rotated by angle 1.5708 in radian.\n",
      "Your 5 qubits are measured\n",
      "Counts: {'00000': 568, '00001': 456}\n",
      "2.3087215345380994 is the original angle.\n",
      "1.5 is your guess.\n",
      "The angle difference between the original theta and your guess is 46.33633073037654 degrees.\n",
      "--> The number of available qubits is now zero, and so you cannot make any further experiments.\n"
     ]
    }
   ],
   "source": [
    "from random import randrange\n",
    "from math import pi\n",
    "from qiskit import QuantumRegister, ClassicalRegister, QuantumCircuit\n",
    "from qiskit_aer import QasmSimulator\n",
    "\n",
    "class UnknownQubit:\n",
    "    def __init__(self):\n",
    "        self.__theta = randrange(18000) / 18000 * pi  # Random angle for qubit rotation\n",
    "        self.__available_qubits = 1000  # Initially, 1000 qubits are available\n",
    "        self.__active_qubits = 0  # No active qubits initially\n",
    "        print(self.__available_qubits, \"qubits are created\")\n",
    "    \n",
    "    def get_qubits(self, number_of_qubits=None):\n",
    "        if number_of_qubits is None or not isinstance(number_of_qubits, int) or number_of_qubits < 1:\n",
    "            print(\"ERROR: The method 'get_qubits' takes the number of qubit(s) as a positive integer, i.e., get_qubits(100).\")\n",
    "        elif number_of_qubits <= self.__available_qubits:\n",
    "            # Use the appropriate number of qubits in the QuantumCircuit\n",
    "            self.__qc = QuantumCircuit(number_of_qubits, number_of_qubits)  # Dynamically set number of qubits\n",
    "            self.__qc.ry(2 * self.__theta, 0)  # Apply a rotation on the first qubit\n",
    "            self.__active_qubits = number_of_qubits\n",
    "            self.__available_qubits -= self.__active_qubits\n",
    "            print(\"You have\", number_of_qubits, \"active qubits that are set to (cos(theta), sin(theta))\")\n",
    "            self.available_qubits()\n",
    "        else:\n",
    "            print(\"WARNING: You requested\", number_of_qubits, \"qubits, but there is not enough available qubits!\")\n",
    "            self.available_qubits()\n",
    "            \n",
    "    def measure_qubits(self):\n",
    "        if self.__active_qubits > 0:\n",
    "            self.__qc.measure(range(self.__active_qubits), range(self.__active_qubits))  # Measure all active qubits\n",
    "            simulator = QasmSimulator()  # Use the QasmSimulator to run the circuit\n",
    "            job = simulator.run(self.__qc, shots=1024)  # Set a reasonable number of shots for a better result\n",
    "            result = job.result()  # Get the result of the simulation\n",
    "            counts = result.get_counts(self.__qc)  # Get the counts of the measurement results\n",
    "            print(\"Your\", self.__active_qubits, \"qubits are measured\")\n",
    "            print(\"Counts:\", counts)\n",
    "            self.__active_qubits = 0  # After measurement, qubits are destroyed\n",
    "            return counts\n",
    "        else:\n",
    "            print(\"WARNING: There are no active qubits -- you might first execute 'get_qubits()' method.\")\n",
    "            self.available_qubits()\n",
    "            \n",
    "    def rotate_qubits(self, angle=None):\n",
    "        if angle is None or not isinstance(angle, (float, int)):\n",
    "            print(\"ERROR: The method 'rotate_qubits' takes a real-valued angle in radian as its parameter, i.e., rotate_qubits(1.2121).\")\n",
    "        elif self.__active_qubits > 0:\n",
    "            self.__qc.ry(2 * angle, 0)  # Apply rotation on the first qubit\n",
    "            print(\"Your active qubits are rotated by angle\", angle, \"in radian.\")\n",
    "        else:\n",
    "            print(\"WARNING: There are no active qubits -- you might first execute 'get_qubits()' method.\")\n",
    "            self.available_qubits()    \n",
    "    \n",
    "    def compare_my_guess(self, my_angle):\n",
    "        if my_angle is None or not isinstance(my_angle, (float, int)):\n",
    "            print(\"ERROR: The method 'compare_my_guess' takes a real-valued angle in radian as your guessed angle, i.e., compare_my_guess(1.2121).\")\n",
    "        else:\n",
    "            self.__available_qubits = 0  # Set available qubits to zero after comparison\n",
    "            diff = abs(my_angle - self.__theta)\n",
    "            print(self.__theta, \"is the original angle.\")\n",
    "            print(my_angle, \"is your guess.\")\n",
    "            print(\"The angle difference between the original theta and your guess is\", diff / pi * 180, \"degrees.\")\n",
    "            print(\"--> The number of available qubits is now zero, and so you cannot make any further experiments.\")\n",
    "\n",
    "    def available_qubits(self):\n",
    "        print(\"--> The number of available unused qubit(s) is\", self.__available_qubits)\n",
    "\n",
    "# Test the class\n",
    "qubit_instance = UnknownQubit()\n",
    "qubit_instance.get_qubits(5)  # Get 5 qubits\n",
    "qubit_instance.rotate_qubits(1.5708)  # Rotate by 90 degrees in radians\n",
    "qubit_instance.measure_qubits()  # Measure the qubits\n",
    "qubit_instance.compare_my_guess(1.5)  # Compare with a guessed angle\n"
   ]
  },
  {
   "cell_type": "code",
   "execution_count": null,
   "id": "0c9e2c23",
   "metadata": {},
   "outputs": [],
   "source": []
  },
  {
   "cell_type": "code",
   "execution_count": null,
   "id": "2f85e25d",
   "metadata": {},
   "outputs": [],
   "source": []
  }
 ],
 "metadata": {
  "kernelspec": {
   "display_name": "Python (qiskit-env)",
   "language": "python",
   "name": "qiskit-env"
  },
  "language_info": {
   "codemirror_mode": {
    "name": "ipython",
    "version": 3
   },
   "file_extension": ".py",
   "mimetype": "text/x-python",
   "name": "python",
   "nbconvert_exporter": "python",
   "pygments_lexer": "ipython3",
   "version": "3.8.20"
  }
 },
 "nbformat": 4,
 "nbformat_minor": 5
}
